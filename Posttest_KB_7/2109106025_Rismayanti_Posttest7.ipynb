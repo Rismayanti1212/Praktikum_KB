{
 "cells": [
  {
   "cell_type": "markdown",
   "id": "3bcf560d-9998-419e-8565-0c5af5dad556",
   "metadata": {},
   "source": [
    "# POSTTEST 7 PRAKTIKUM KECERDASAN BUATAN\n",
    "### NAMA  : RISMAYANTI\n",
    "### NIM    : 2109106025\n",
    "### KELAS : A1-21"
   ]
  },
  {
   "cell_type": "markdown",
   "id": "7194398a-df9c-4846-85ea-92441e37c7a2",
   "metadata": {},
   "source": [
    "## Mengimport Library "
   ]
  },
  {
   "cell_type": "code",
   "execution_count": 104,
   "id": "6f88f482-be3e-4152-8dcb-fad75292d821",
   "metadata": {},
   "outputs": [],
   "source": [
    "import tensorflow as tf"
   ]
  },
  {
   "cell_type": "markdown",
   "id": "4c95c4af-d6d3-43a8-9dde-6a14fab2800b",
   "metadata": {},
   "source": [
    "## 1. Membuat sebuah tensor shape(5,5) dengan nilai random yang disimpan dalam variable random_tensor"
   ]
  },
  {
   "cell_type": "code",
   "execution_count": 105,
   "id": "57a4355e-1bb4-4e38-bf35-05d0b3438a46",
   "metadata": {},
   "outputs": [
    {
     "data": {
      "text/plain": [
       "array([[-0.9760397 , -0.7149236 ,  0.73386455,  0.28581223, -0.02302803],\n",
       "       [ 0.6578604 ,  0.40351585, -1.0177003 ,  1.5687829 ,  1.3205584 ],\n",
       "       [-1.0235384 ,  0.40732396,  0.46989402,  0.6069317 ,  0.75923777],\n",
       "       [-1.4553891 , -0.9280767 ,  2.209676  , -0.05317732, -0.4817062 ],\n",
       "       [ 0.00569245,  1.4055637 , -0.31561458,  0.01160778, -0.3512627 ]],\n",
       "      dtype=float32)"
      ]
     },
     "execution_count": 105,
     "metadata": {},
     "output_type": "execute_result"
    }
   ],
   "source": [
    "random_tensor = tf.random.normal([5,5])\n",
    "random_tensor.numpy()"
   ]
  },
  {
   "cell_type": "markdown",
   "id": "7b951a5d-fcf5-4443-8468-82e8e8e0fca2",
   "metadata": {},
   "source": [
    "## 2. Membuat sebuah tensor dengan shape(5,5) dari sebuah list dengan nilai bilangan prima dalam variable prime_tensor"
   ]
  },
  {
   "cell_type": "code",
   "execution_count": 106,
   "id": "fafdcc77-b4de-4eca-9090-f91da480fc99",
   "metadata": {},
   "outputs": [
    {
     "data": {
      "text/plain": [
       "array([[ 2.,  3.,  5.,  7., 11.],\n",
       "       [13., 17., 19., 23., 29.],\n",
       "       [31., 37., 41., 43., 47.],\n",
       "       [53., 59., 61., 67., 71.],\n",
       "       [73., 79., 83., 89., 97.]], dtype=float32)"
      ]
     },
     "execution_count": 106,
     "metadata": {},
     "output_type": "execute_result"
    }
   ],
   "source": [
    "prime_tensor = tf.constant([2, 3, 5, 7, 11, \n",
    "                            13, 17, 19, 23, 29,\n",
    "                            31, 37, 41, 43, 47, \n",
    "                            53, 59, 61, 67, 71, \n",
    "                            73, 79, 83, 89, 97], shape=[5,5], dtype=tf.float32)\n",
    "prime_tensor.numpy()"
   ]
  },
  {
   "cell_type": "markdown",
   "id": "497799d3-0bb9-4944-975c-51a10d6689c0",
   "metadata": {},
   "source": [
    "## 3. Menampilkan Dimensi Kedua Variable"
   ]
  },
  {
   "cell_type": "markdown",
   "id": "a235a625-e9bc-4dcf-bbf4-6e6cce3aecf4",
   "metadata": {},
   "source": [
    "### Menampilkan Dimensi Variable random_tensor"
   ]
  },
  {
   "cell_type": "code",
   "execution_count": 107,
   "id": "4449d361-5a5a-4d0e-8dc9-37bfac64f26a",
   "metadata": {},
   "outputs": [
    {
     "data": {
      "text/plain": [
       "TensorShape([5, 5])"
      ]
     },
     "execution_count": 107,
     "metadata": {},
     "output_type": "execute_result"
    }
   ],
   "source": [
    "dim_display_random = tf.constant(['random_tensor'], shape=[5,5])\n",
    "dim_display_random.shape\n"
   ]
  },
  {
   "cell_type": "code",
   "execution_count": 108,
   "id": "22a819b8-96e5-4773-9684-211e1da45162",
   "metadata": {},
   "outputs": [
    {
     "data": {
      "text/plain": [
       "<tf.Tensor: shape=(2,), dtype=int32, numpy=array([5, 5])>"
      ]
     },
     "execution_count": 108,
     "metadata": {},
     "output_type": "execute_result"
    }
   ],
   "source": [
    "tf.shape(dim_display_random)"
   ]
  },
  {
   "cell_type": "markdown",
   "id": "7f0cb1ad-15e7-4a9d-be8e-0367fc966440",
   "metadata": {},
   "source": [
    "### Menampilkan Dimensi Variable prime_tensor"
   ]
  },
  {
   "cell_type": "code",
   "execution_count": 109,
   "id": "fe3a5bf6-6f8b-4d51-9b6a-8d88a3132bef",
   "metadata": {},
   "outputs": [
    {
     "data": {
      "text/plain": [
       "TensorShape([5, 5])"
      ]
     },
     "execution_count": 109,
     "metadata": {},
     "output_type": "execute_result"
    }
   ],
   "source": [
    "dim_display_prime = tf.constant(['prime_tensor'], shape=[5,5])\n",
    "dim_display_prime.shape"
   ]
  },
  {
   "cell_type": "code",
   "execution_count": 110,
   "id": "0ae0baa6-a813-4b5d-a418-7a1c67183e7c",
   "metadata": {},
   "outputs": [
    {
     "data": {
      "text/plain": [
       "<tf.Tensor: shape=(2,), dtype=int32, numpy=array([5, 5])>"
      ]
     },
     "execution_count": 110,
     "metadata": {},
     "output_type": "execute_result"
    }
   ],
   "source": [
    "tf.shape(dim_display_random)"
   ]
  },
  {
   "cell_type": "markdown",
   "id": "dd2d66d1-de03-4bbf-b76a-318077aa1fd6",
   "metadata": {},
   "source": [
    "## 4. Menampilkan hasil dari perhitungan aritmetika 2 variable tersebut (Gunakan minimal 5 operator)"
   ]
  },
  {
   "cell_type": "markdown",
   "id": "19c9bd0d-ba0d-4719-91fe-78eb5e8b516b",
   "metadata": {},
   "source": [
    "### Operator Penjumlahan"
   ]
  },
  {
   "cell_type": "code",
   "execution_count": 111,
   "id": "e95f9515-461b-43b4-a791-2ab749539a65",
   "metadata": {},
   "outputs": [
    {
     "name": "stdout",
     "output_type": "stream",
     "text": [
      "HASIL PENJUMLAHAN DARI RANDOM_TENSOR & PRIME_TENSOR : \n"
     ]
    },
    {
     "data": {
      "text/plain": [
       "array([[ 1.0239604,  2.2850764,  5.733865 ,  7.2858124, 10.976972 ],\n",
       "       [13.657861 , 17.403517 , 17.9823   , 24.568783 , 30.320559 ],\n",
       "       [29.976461 , 37.407326 , 41.469894 , 43.606934 , 47.75924  ],\n",
       "       [51.54461  , 58.071922 , 63.209675 , 66.94682  , 70.518295 ],\n",
       "       [73.00569  , 80.40556  , 82.68439  , 89.011604 , 96.648735 ]],\n",
       "      dtype=float32)"
      ]
     },
     "execution_count": 111,
     "metadata": {},
     "output_type": "execute_result"
    }
   ],
   "source": [
    "print(\"HASIL PENJUMLAHAN DARI RANDOM_TENSOR & PRIME_TENSOR : \")\n",
    "penjumlahan = random_tensor + prime_tensor\n",
    "penjumlahan.numpy()"
   ]
  },
  {
   "cell_type": "markdown",
   "id": "8d87298e-2f74-43ad-99a0-4789f79d90c4",
   "metadata": {},
   "source": [
    "### Operator Pengurangan"
   ]
  },
  {
   "cell_type": "code",
   "execution_count": 112,
   "id": "53718057-f035-4745-ac07-85af04b573e2",
   "metadata": {},
   "outputs": [
    {
     "name": "stdout",
     "output_type": "stream",
     "text": [
      "HASIL PENGURANGAN DARI RANDOM_TENSOR & PRIME_TENSOR : \n"
     ]
    },
    {
     "data": {
      "text/plain": [
       "array([[ -2.9760396,  -3.7149236,  -4.266135 ,  -6.7141876, -11.023028 ],\n",
       "       [-12.342139 , -16.596483 , -20.0177   , -21.431217 , -27.679441 ],\n",
       "       [-32.023537 , -36.592674 , -40.530106 , -42.393066 , -46.24076  ],\n",
       "       [-54.45539  , -59.928078 , -58.790325 , -67.05318  , -71.481705 ],\n",
       "       [-72.99431  , -77.59444  , -83.31561  , -88.988396 , -97.351265 ]],\n",
       "      dtype=float32)"
      ]
     },
     "execution_count": 112,
     "metadata": {},
     "output_type": "execute_result"
    }
   ],
   "source": [
    "print(\"HASIL PENGURANGAN DARI RANDOM_TENSOR & PRIME_TENSOR : \")\n",
    "pengurangan = random_tensor - prime_tensor\n",
    "pengurangan.numpy()"
   ]
  },
  {
   "cell_type": "markdown",
   "id": "78907d86-18fa-48e8-9f02-e0b23c81feb6",
   "metadata": {},
   "source": [
    "### Operator Perkalian"
   ]
  },
  {
   "cell_type": "code",
   "execution_count": 113,
   "id": "c73850f9-111d-4e4e-92a0-2ddb982e1bf9",
   "metadata": {},
   "outputs": [
    {
     "name": "stdout",
     "output_type": "stream",
     "text": [
      "HASIL PERKALIAN DARI RANDOM_TENSOR & PRIME_TENSOR : \n"
     ]
    },
    {
     "data": {
      "text/plain": [
       "array([[ -1.9520794 ,  -2.1447709 ,   3.6693227 ,   2.0006857 ,\n",
       "         -0.25330827],\n",
       "       [  8.552185  ,   6.8597693 , -19.336306  ,  36.08201   ,\n",
       "         38.296196  ],\n",
       "       [-31.729689  ,  15.070987  ,  19.265656  ,  26.098063  ,\n",
       "         35.684174  ],\n",
       "       [-77.13563   , -54.756523  , 134.79024   ,  -3.5628805 ,\n",
       "        -34.20114   ],\n",
       "       [  0.41554886, 111.039536  , -26.19601   ,   1.0330925 ,\n",
       "        -34.07248   ]], dtype=float32)"
      ]
     },
     "execution_count": 113,
     "metadata": {},
     "output_type": "execute_result"
    }
   ],
   "source": [
    "print(\"HASIL PERKALIAN DARI RANDOM_TENSOR & PRIME_TENSOR : \")\n",
    "perkalian = random_tensor * prime_tensor\n",
    "perkalian.numpy()"
   ]
  },
  {
   "cell_type": "markdown",
   "id": "6f85cd7d-8206-4ef2-a36a-fffa6682ba4b",
   "metadata": {},
   "source": [
    "### Operator Pembagian"
   ]
  },
  {
   "cell_type": "code",
   "execution_count": 114,
   "id": "ae5b6229-605e-4d0e-87bd-3e5bee3cb55e",
   "metadata": {},
   "outputs": [
    {
     "name": "stdout",
     "output_type": "stream",
     "text": [
      "HASIL PEMBAGIAN DARI RANDOM_TENSOR & PRIME_TENSOR : \n"
     ]
    },
    {
     "data": {
      "text/plain": [
       "array([[-4.88019854e-01, -2.38307878e-01,  1.46772906e-01,\n",
       "         4.08303179e-02, -2.09345692e-03],\n",
       "       [ 5.06046452e-02,  2.37362254e-02, -5.35631739e-02,\n",
       "         6.82079569e-02,  4.55364957e-02],\n",
       "       [-3.30173671e-02,  1.10087553e-02,  1.14608295e-02,\n",
       "         1.41146900e-02,  1.61539949e-02],\n",
       "       [-2.74601728e-02, -1.57301128e-02,  3.62241976e-02,\n",
       "        -7.93691317e-04, -6.78459462e-03],\n",
       "       [ 7.79787733e-05,  1.77919455e-02, -3.80258542e-03,\n",
       "         1.30424509e-04, -3.62126483e-03]], dtype=float32)"
      ]
     },
     "execution_count": 114,
     "metadata": {},
     "output_type": "execute_result"
    }
   ],
   "source": [
    "print(\"HASIL PEMBAGIAN DARI RANDOM_TENSOR & PRIME_TENSOR : \")\n",
    "pembagian = random_tensor / prime_tensor\n",
    "pembagian.numpy()"
   ]
  },
  {
   "cell_type": "markdown",
   "id": "0d2196fc-7348-42e4-8513-9faad1a8b51c",
   "metadata": {},
   "source": [
    "### Operator Sisa Bagi"
   ]
  },
  {
   "cell_type": "code",
   "execution_count": 115,
   "id": "6ca68d7a-6d50-44b3-9195-5ee9d342a24e",
   "metadata": {},
   "outputs": [
    {
     "name": "stdout",
     "output_type": "stream",
     "text": [
      "HASIL SISA BAGI ANTARA RANDOM_TENSOR & PRIME_TENSOR : \n"
     ]
    },
    {
     "data": {
      "text/plain": [
       "array([[1.0239604e+00, 2.2850764e+00, 7.3386455e-01, 2.8581223e-01,\n",
       "        1.0976972e+01],\n",
       "       [6.5786040e-01, 4.0351585e-01, 1.7982300e+01, 1.5687829e+00,\n",
       "        1.3205584e+00],\n",
       "       [2.9976461e+01, 4.0732396e-01, 4.6989402e-01, 6.0693169e-01,\n",
       "        7.5923777e-01],\n",
       "       [5.1544609e+01, 5.8071922e+01, 2.2096760e+00, 6.6946823e+01,\n",
       "        7.0518295e+01],\n",
       "       [5.6924503e-03, 1.4055637e+00, 8.2684387e+01, 1.1607781e-02,\n",
       "        9.6648735e+01]], dtype=float32)"
      ]
     },
     "execution_count": 115,
     "metadata": {},
     "output_type": "execute_result"
    }
   ],
   "source": [
    "print(\"HASIL SISA BAGI ANTARA RANDOM_TENSOR & PRIME_TENSOR : \")\n",
    "modulus = random_tensor % prime_tensor\n",
    "modulus.numpy()"
   ]
  },
  {
   "cell_type": "markdown",
   "id": "082f7e52-5b1d-4385-8352-ffe80bd49cf7",
   "metadata": {},
   "source": [
    "### Operator Pangkat"
   ]
  },
  {
   "cell_type": "code",
   "execution_count": 116,
   "id": "8fe8a6d6-2a9b-4f84-9fba-58c84e31eead",
   "metadata": {},
   "outputs": [
    {
     "name": "stdout",
     "output_type": "stream",
     "text": [
      "HASIL PANGKAT ANTARA RANDOM_TENSOR & PRIME_TENSOR : \n"
     ]
    },
    {
     "data": {
      "text/plain": [
       "array([[ 9.5265353e-01, -3.6540875e-01,  2.1285288e-01,  1.5579935e-04,\n",
       "        -9.6565882e-19],\n",
       "       [ 4.3225363e-03,  1.9935636e-07, -1.3956556e+00,  3.1473543e+04,\n",
       "         3.1766621e+03],\n",
       "       [-2.0569689e+00,  3.6963942e-15,  3.5644844e-14,  4.7316423e-10,\n",
       "         2.3864741e-06],\n",
       "       [-4.3440410e+08, -1.2230603e-02,  1.0093571e+21, -0.0000000e+00,\n",
       "        -3.0028864e-23],\n",
       "       [ 0.0000000e+00,  4.7884216e+11, -0.0000000e+00,  0.0000000e+00,\n",
       "        -0.0000000e+00]], dtype=float32)"
      ]
     },
     "execution_count": 116,
     "metadata": {},
     "output_type": "execute_result"
    }
   ],
   "source": [
    "print(\"HASIL PANGKAT ANTARA RANDOM_TENSOR & PRIME_TENSOR : \")\n",
    "pangkat = random_tensor ** prime_tensor\n",
    "pangkat.numpy()"
   ]
  },
  {
   "cell_type": "markdown",
   "id": "6f7950c6-c8b2-4630-81aa-46c8c3e20bee",
   "metadata": {},
   "source": [
    "### Operator Pembagian Bulat"
   ]
  },
  {
   "cell_type": "code",
   "execution_count": 117,
   "id": "5439da5a-d9cb-4a33-b073-68270a08adf1",
   "metadata": {},
   "outputs": [
    {
     "name": "stdout",
     "output_type": "stream",
     "text": [
      "HASIL PEMBAGIAN BULAT ANTARA RANDOM_TENSOR & PRIME_TENSOR : \n"
     ]
    },
    {
     "data": {
      "text/plain": [
       "array([[-1., -1.,  0.,  0., -1.],\n",
       "       [ 0.,  0., -1.,  0.,  0.],\n",
       "       [-1.,  0.,  0.,  0.,  0.],\n",
       "       [-1., -1.,  0., -1., -1.],\n",
       "       [ 0.,  0., -1.,  0., -1.]], dtype=float32)"
      ]
     },
     "execution_count": 117,
     "metadata": {},
     "output_type": "execute_result"
    }
   ],
   "source": [
    "print(\"HASIL PEMBAGIAN BULAT ANTARA RANDOM_TENSOR & PRIME_TENSOR : \")\n",
    "pembagian_bulat = random_tensor // prime_tensor\n",
    "pembagian_bulat.numpy()"
   ]
  },
  {
   "cell_type": "markdown",
   "id": "8ac8181e-8881-4654-b392-1388dff6e4ba",
   "metadata": {},
   "source": [
    "## 5. Menampilkan nilai maksimum dan minimum dari variable random_tensor"
   ]
  },
  {
   "cell_type": "markdown",
   "id": "62251000-b5d3-4162-a71c-f06140a8f2c8",
   "metadata": {},
   "source": [
    "### Nilai Maksimum Variable random_tensor"
   ]
  },
  {
   "cell_type": "code",
   "execution_count": 118,
   "id": "81b20e36-d629-4b35-badd-40991b338be0",
   "metadata": {},
   "outputs": [
    {
     "name": "stdout",
     "output_type": "stream",
     "text": [
      "Nilai Maksimum Variable Random Tensor Terletak DiIndex  [1 4 3 1 1]\n",
      "Untuk Baris Ke-1 nilai maksimumnya terletak diindex ke  1\n",
      "Untuk Baris Ke-2 nilai maksimumnya terletak diindex ke  4\n",
      "Untuk Baris Ke-3 nilai maksimumnya terletak diindex ke  3\n",
      "Untuk Baris Ke-4 nilai maksimumnya terletak diindex ke  1\n",
      "Untuk Baris Ke-5 nilai maksimumnya terletak diindex ke  1\n"
     ]
    }
   ],
   "source": [
    "max_random_tensor = tf.argmax(random_tensor, axis = 0)\n",
    "print(\"Nilai Maksimum Variable Random Tensor Terletak DiIndex \", max_random_tensor.numpy())\n",
    "print(\"Untuk Baris Ke-1 nilai maksimumnya terletak diindex ke \", max_random_tensor[0].numpy())\n",
    "print(\"Untuk Baris Ke-2 nilai maksimumnya terletak diindex ke \", max_random_tensor[1].numpy())\n",
    "print(\"Untuk Baris Ke-3 nilai maksimumnya terletak diindex ke \", max_random_tensor[2].numpy())\n",
    "print(\"Untuk Baris Ke-4 nilai maksimumnya terletak diindex ke \", max_random_tensor[3].numpy())\n",
    "print(\"Untuk Baris Ke-5 nilai maksimumnya terletak diindex ke \", max_random_tensor[4].numpy())"
   ]
  },
  {
   "cell_type": "markdown",
   "id": "ef79dbb0-9bb8-496d-83db-fea4e319ff91",
   "metadata": {},
   "source": [
    "### Nilai Minimum Variable random_tensor"
   ]
  },
  {
   "cell_type": "code",
   "execution_count": 119,
   "id": "5dd9556a-80a1-4713-8acc-7d0e3ed8668a",
   "metadata": {},
   "outputs": [
    {
     "name": "stdout",
     "output_type": "stream",
     "text": [
      "Nilai Minimum Variable Random Tensor Terletak DiIndex  [3 3 1 3 3]\n",
      "Untuk Baris Ke-1 nilai minimumnya terletak diindex ke  3\n",
      "Untuk Baris Ke-2 nilai minimumnya terletak diindex ke  3\n",
      "Untuk Baris Ke-3 nilai minimumnya terletak diindex ke  1\n",
      "Untuk Baris Ke-4 nilai minimumnya terletak diindex ke  3\n",
      "Untuk Baris Ke-5 nilai minimumnya terletak diindex ke  3\n"
     ]
    }
   ],
   "source": [
    "min_random_tensor= tf.argmin(random_tensor, axis = 0)\n",
    "print(\"Nilai Minimum Variable Random Tensor Terletak DiIndex \", min_random_tensor.numpy())\n",
    "print(\"Untuk Baris Ke-1 nilai minimumnya terletak diindex ke \", min_random_tensor[0].numpy())\n",
    "print(\"Untuk Baris Ke-2 nilai minimumnya terletak diindex ke \", min_random_tensor[1].numpy())\n",
    "print(\"Untuk Baris Ke-3 nilai minimumnya terletak diindex ke \", min_random_tensor[2].numpy())\n",
    "print(\"Untuk Baris Ke-4 nilai minimumnya terletak diindex ke \", min_random_tensor[3].numpy())\n",
    "print(\"Untuk Baris Ke-5 nilai minimumnya terletak diindex ke \", min_random_tensor[4].numpy())"
   ]
  },
  {
   "cell_type": "markdown",
   "id": "a2d1f947-7121-4a16-9d59-5a157a7fafd2",
   "metadata": {},
   "source": [
    "## 6. Menampilkan hasil dari penggabungan variable random_tensor dengan prime_tensor (concatenation)"
   ]
  },
  {
   "cell_type": "code",
   "execution_count": 120,
   "id": "d4436cc7-fff0-44e6-88ff-4e216cef83ef",
   "metadata": {},
   "outputs": [
    {
     "data": {
      "text/plain": [
       "<tf.Tensor: shape=(10, 5), dtype=float32, numpy=\n",
       "array([[-9.7603971e-01, -7.1492362e-01,  7.3386455e-01,  2.8581223e-01,\n",
       "        -2.3028025e-02],\n",
       "       [ 6.5786040e-01,  4.0351585e-01, -1.0177003e+00,  1.5687829e+00,\n",
       "         1.3205584e+00],\n",
       "       [-1.0235384e+00,  4.0732396e-01,  4.6989402e-01,  6.0693169e-01,\n",
       "         7.5923777e-01],\n",
       "       [-1.4553891e+00, -9.2807668e-01,  2.2096760e+00, -5.3177319e-02,\n",
       "        -4.8170620e-01],\n",
       "       [ 5.6924503e-03,  1.4055637e+00, -3.1561458e-01,  1.1607781e-02,\n",
       "        -3.5126269e-01],\n",
       "       [ 2.0000000e+00,  3.0000000e+00,  5.0000000e+00,  7.0000000e+00,\n",
       "         1.1000000e+01],\n",
       "       [ 1.3000000e+01,  1.7000000e+01,  1.9000000e+01,  2.3000000e+01,\n",
       "         2.9000000e+01],\n",
       "       [ 3.1000000e+01,  3.7000000e+01,  4.1000000e+01,  4.3000000e+01,\n",
       "         4.7000000e+01],\n",
       "       [ 5.3000000e+01,  5.9000000e+01,  6.1000000e+01,  6.7000000e+01,\n",
       "         7.1000000e+01],\n",
       "       [ 7.3000000e+01,  7.9000000e+01,  8.3000000e+01,  8.9000000e+01,\n",
       "         9.7000000e+01]], dtype=float32)>"
      ]
     },
     "execution_count": 120,
     "metadata": {},
     "output_type": "execute_result"
    }
   ],
   "source": [
    "concat_random_prime = tf.concat([random_tensor, prime_tensor], axis =0)\n",
    "concat_random_prime"
   ]
  },
  {
   "cell_type": "markdown",
   "id": "ca57dd8a-9d03-49df-bbfa-429b3033f17d",
   "metadata": {},
   "source": [
    "## 7. Menampilkan hasil sorting dari kedua variable di atas (descending)"
   ]
  },
  {
   "cell_type": "markdown",
   "id": "daea88cf-bb87-452a-abaf-6ff7e7ef4a61",
   "metadata": {},
   "source": [
    "### Sorting Descending Variable random_tensor"
   ]
  },
  {
   "cell_type": "code",
   "execution_count": 121,
   "id": "d41c557a-d76c-4d7b-bc9f-63b5d3261c61",
   "metadata": {},
   "outputs": [
    {
     "name": "stdout",
     "output_type": "stream",
     "text": [
      "RANDOM TENSOR BERDASARKAN SORTING DESCENDING\n"
     ]
    },
    {
     "data": {
      "text/plain": [
       "array([[ 0.73386455,  0.28581223, -0.02302803, -0.7149236 , -0.9760397 ],\n",
       "       [ 1.5687829 ,  1.3205584 ,  0.6578604 ,  0.40351585, -1.0177003 ],\n",
       "       [ 0.75923777,  0.6069317 ,  0.46989402,  0.40732396, -1.0235384 ],\n",
       "       [ 2.209676  , -0.05317732, -0.4817062 , -0.9280767 , -1.4553891 ],\n",
       "       [ 1.4055637 ,  0.01160778,  0.00569245, -0.31561458, -0.3512627 ]],\n",
       "      dtype=float32)"
      ]
     },
     "execution_count": 121,
     "metadata": {},
     "output_type": "execute_result"
    }
   ],
   "source": [
    "random_tensor_desc = tf.sort(random_tensor, direction=\"DESCENDING\")\n",
    "print(\"RANDOM TENSOR BERDASARKAN SORTING DESCENDING\")\n",
    "random_tensor_desc.numpy()"
   ]
  },
  {
   "cell_type": "markdown",
   "id": "c2fb2ea2-9b4b-4cde-911c-9936b1410d73",
   "metadata": {},
   "source": [
    "### Sorting Descending Variable prime_tensor"
   ]
  },
  {
   "cell_type": "code",
   "execution_count": 122,
   "id": "b80196c8-0f50-483a-8521-addd8d741cc8",
   "metadata": {},
   "outputs": [
    {
     "name": "stdout",
     "output_type": "stream",
     "text": [
      "PRIME TENSOR BERDASARKAN SORTING DESCENDING\n"
     ]
    },
    {
     "data": {
      "text/plain": [
       "array([[11.,  7.,  5.,  3.,  2.],\n",
       "       [29., 23., 19., 17., 13.],\n",
       "       [47., 43., 41., 37., 31.],\n",
       "       [71., 67., 61., 59., 53.],\n",
       "       [97., 89., 83., 79., 73.]], dtype=float32)"
      ]
     },
     "execution_count": 122,
     "metadata": {},
     "output_type": "execute_result"
    }
   ],
   "source": [
    "prime_tensor_desc = tf.sort(prime_tensor, direction=\"DESCENDING\")\n",
    "print(\"PRIME TENSOR BERDASARKAN SORTING DESCENDING\")\n",
    "prime_tensor_desc.numpy()"
   ]
  }
 ],
 "metadata": {
  "kernelspec": {
   "display_name": "Python 3 (ipykernel)",
   "language": "python",
   "name": "python3"
  },
  "language_info": {
   "codemirror_mode": {
    "name": "ipython",
    "version": 3
   },
   "file_extension": ".py",
   "mimetype": "text/x-python",
   "name": "python",
   "nbconvert_exporter": "python",
   "pygments_lexer": "ipython3",
   "version": "3.10.7"
  }
 },
 "nbformat": 4,
 "nbformat_minor": 5
}
