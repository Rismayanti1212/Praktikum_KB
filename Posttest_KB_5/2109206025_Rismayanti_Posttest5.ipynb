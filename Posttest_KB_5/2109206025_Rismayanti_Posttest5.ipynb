{
 "cells": [
  {
   "cell_type": "markdown",
   "id": "d2b42527-32b7-4f80-b144-8013c33e413d",
   "metadata": {},
   "source": [
    "# Posttest 5 Kecerdasan Buatan\n",
    "## Nama : Rismayanti  \n",
    "## NIM  : 2109106025"
   ]
  },
  {
   "cell_type": "markdown",
   "id": "17bee68e-8118-431b-b92a-df1cf49513ab",
   "metadata": {},
   "source": [
    "# Mengimport Library yang Dibutuhkan"
   ]
  },
  {
   "cell_type": "code",
   "execution_count": 227,
   "id": "66143043-cf8b-46e4-84e9-34e604e879a0",
   "metadata": {},
   "outputs": [],
   "source": [
    "import pandas as pd\n",
    "import seaborn as sns"
   ]
  },
  {
   "cell_type": "markdown",
   "id": "c1051350-f67e-4439-8aca-5811e9acda19",
   "metadata": {},
   "source": [
    "# Membaca Dataset"
   ]
  },
  {
   "cell_type": "code",
   "execution_count": 228,
   "id": "abe1cde6-c3fd-4c8c-a004-a94f30fc76a2",
   "metadata": {},
   "outputs": [],
   "source": [
    "dataset = pd.read_csv(\"StudentsPerformance.csv\")"
   ]
  },
  {
   "cell_type": "markdown",
   "id": "aff0aa39-d5a7-49ca-b1c8-c875a9b67fdd",
   "metadata": {},
   "source": [
    "# Menampilkan 10 Dataset Pertama"
   ]
  },
  {
   "cell_type": "code",
   "execution_count": 229,
   "id": "5f55598e-136a-4b0b-bc85-ed739666409d",
   "metadata": {},
   "outputs": [
    {
     "data": {
      "text/html": [
       "<div>\n",
       "<style scoped>\n",
       "    .dataframe tbody tr th:only-of-type {\n",
       "        vertical-align: middle;\n",
       "    }\n",
       "\n",
       "    .dataframe tbody tr th {\n",
       "        vertical-align: top;\n",
       "    }\n",
       "\n",
       "    .dataframe thead th {\n",
       "        text-align: right;\n",
       "    }\n",
       "</style>\n",
       "<table border=\"1\" class=\"dataframe\">\n",
       "  <thead>\n",
       "    <tr style=\"text-align: right;\">\n",
       "      <th></th>\n",
       "      <th>gender</th>\n",
       "      <th>race/ethnicity</th>\n",
       "      <th>parental level of education</th>\n",
       "      <th>lunch</th>\n",
       "      <th>test preparation course</th>\n",
       "      <th>math score</th>\n",
       "      <th>reading score</th>\n",
       "      <th>writing score</th>\n",
       "    </tr>\n",
       "  </thead>\n",
       "  <tbody>\n",
       "    <tr>\n",
       "      <th>0</th>\n",
       "      <td>female</td>\n",
       "      <td>group B</td>\n",
       "      <td>bachelor's degree</td>\n",
       "      <td>standard</td>\n",
       "      <td>none</td>\n",
       "      <td>72</td>\n",
       "      <td>72</td>\n",
       "      <td>74</td>\n",
       "    </tr>\n",
       "    <tr>\n",
       "      <th>1</th>\n",
       "      <td>female</td>\n",
       "      <td>group C</td>\n",
       "      <td>some college</td>\n",
       "      <td>standard</td>\n",
       "      <td>completed</td>\n",
       "      <td>69</td>\n",
       "      <td>90</td>\n",
       "      <td>88</td>\n",
       "    </tr>\n",
       "    <tr>\n",
       "      <th>2</th>\n",
       "      <td>female</td>\n",
       "      <td>group B</td>\n",
       "      <td>master's degree</td>\n",
       "      <td>standard</td>\n",
       "      <td>none</td>\n",
       "      <td>90</td>\n",
       "      <td>95</td>\n",
       "      <td>93</td>\n",
       "    </tr>\n",
       "    <tr>\n",
       "      <th>3</th>\n",
       "      <td>male</td>\n",
       "      <td>group A</td>\n",
       "      <td>associate's degree</td>\n",
       "      <td>free/reduced</td>\n",
       "      <td>none</td>\n",
       "      <td>47</td>\n",
       "      <td>57</td>\n",
       "      <td>44</td>\n",
       "    </tr>\n",
       "    <tr>\n",
       "      <th>4</th>\n",
       "      <td>male</td>\n",
       "      <td>group C</td>\n",
       "      <td>some college</td>\n",
       "      <td>standard</td>\n",
       "      <td>none</td>\n",
       "      <td>76</td>\n",
       "      <td>78</td>\n",
       "      <td>75</td>\n",
       "    </tr>\n",
       "    <tr>\n",
       "      <th>5</th>\n",
       "      <td>female</td>\n",
       "      <td>group B</td>\n",
       "      <td>associate's degree</td>\n",
       "      <td>standard</td>\n",
       "      <td>none</td>\n",
       "      <td>71</td>\n",
       "      <td>83</td>\n",
       "      <td>78</td>\n",
       "    </tr>\n",
       "    <tr>\n",
       "      <th>6</th>\n",
       "      <td>female</td>\n",
       "      <td>group B</td>\n",
       "      <td>some college</td>\n",
       "      <td>standard</td>\n",
       "      <td>completed</td>\n",
       "      <td>88</td>\n",
       "      <td>95</td>\n",
       "      <td>92</td>\n",
       "    </tr>\n",
       "    <tr>\n",
       "      <th>7</th>\n",
       "      <td>male</td>\n",
       "      <td>group B</td>\n",
       "      <td>some college</td>\n",
       "      <td>free/reduced</td>\n",
       "      <td>none</td>\n",
       "      <td>40</td>\n",
       "      <td>43</td>\n",
       "      <td>39</td>\n",
       "    </tr>\n",
       "    <tr>\n",
       "      <th>8</th>\n",
       "      <td>male</td>\n",
       "      <td>group D</td>\n",
       "      <td>high school</td>\n",
       "      <td>free/reduced</td>\n",
       "      <td>completed</td>\n",
       "      <td>64</td>\n",
       "      <td>64</td>\n",
       "      <td>67</td>\n",
       "    </tr>\n",
       "    <tr>\n",
       "      <th>9</th>\n",
       "      <td>female</td>\n",
       "      <td>group B</td>\n",
       "      <td>high school</td>\n",
       "      <td>free/reduced</td>\n",
       "      <td>none</td>\n",
       "      <td>38</td>\n",
       "      <td>60</td>\n",
       "      <td>50</td>\n",
       "    </tr>\n",
       "  </tbody>\n",
       "</table>\n",
       "</div>"
      ],
      "text/plain": [
       "   gender race/ethnicity parental level of education         lunch  \\\n",
       "0  female        group B           bachelor's degree      standard   \n",
       "1  female        group C                some college      standard   \n",
       "2  female        group B             master's degree      standard   \n",
       "3    male        group A          associate's degree  free/reduced   \n",
       "4    male        group C                some college      standard   \n",
       "5  female        group B          associate's degree      standard   \n",
       "6  female        group B                some college      standard   \n",
       "7    male        group B                some college  free/reduced   \n",
       "8    male        group D                 high school  free/reduced   \n",
       "9  female        group B                 high school  free/reduced   \n",
       "\n",
       "  test preparation course  math score  reading score  writing score  \n",
       "0                    none          72             72             74  \n",
       "1               completed          69             90             88  \n",
       "2                    none          90             95             93  \n",
       "3                    none          47             57             44  \n",
       "4                    none          76             78             75  \n",
       "5                    none          71             83             78  \n",
       "6               completed          88             95             92  \n",
       "7                    none          40             43             39  \n",
       "8               completed          64             64             67  \n",
       "9                    none          38             60             50  "
      ]
     },
     "execution_count": 229,
     "metadata": {},
     "output_type": "execute_result"
    }
   ],
   "source": [
    "dataset.head(10)"
   ]
  },
  {
   "cell_type": "markdown",
   "id": "2d9e5a56-2bae-4201-a883-69420fd3e254",
   "metadata": {},
   "source": [
    "# Mengecek Data Yang Duplicates\n",
    "#### Jika terdapat data duplicate maka akan dicleaning data dengan menghilangkan nilai duplicatenya\n",
    "#### Tetapi pada dataset saya tidak terdapat data duplicate"
   ]
  },
  {
   "cell_type": "code",
   "execution_count": 230,
   "id": "c7f22217-9b19-423d-9c85-9ba96c8e6b02",
   "metadata": {},
   "outputs": [
    {
     "data": {
      "text/html": [
       "<div>\n",
       "<style scoped>\n",
       "    .dataframe tbody tr th:only-of-type {\n",
       "        vertical-align: middle;\n",
       "    }\n",
       "\n",
       "    .dataframe tbody tr th {\n",
       "        vertical-align: top;\n",
       "    }\n",
       "\n",
       "    .dataframe thead th {\n",
       "        text-align: right;\n",
       "    }\n",
       "</style>\n",
       "<table border=\"1\" class=\"dataframe\">\n",
       "  <thead>\n",
       "    <tr style=\"text-align: right;\">\n",
       "      <th></th>\n",
       "      <th>gender</th>\n",
       "      <th>race/ethnicity</th>\n",
       "      <th>parental level of education</th>\n",
       "      <th>lunch</th>\n",
       "      <th>test preparation course</th>\n",
       "      <th>math score</th>\n",
       "      <th>reading score</th>\n",
       "      <th>writing score</th>\n",
       "    </tr>\n",
       "  </thead>\n",
       "  <tbody>\n",
       "  </tbody>\n",
       "</table>\n",
       "</div>"
      ],
      "text/plain": [
       "Empty DataFrame\n",
       "Columns: [gender, race/ethnicity, parental level of education, lunch, test preparation course, math score, reading score, writing score]\n",
       "Index: []"
      ]
     },
     "execution_count": 230,
     "metadata": {},
     "output_type": "execute_result"
    }
   ],
   "source": [
    "dataset[dataset.duplicated()]"
   ]
  },
  {
   "cell_type": "code",
   "execution_count": 231,
   "id": "1826bc3e-a530-4cad-ac7f-34275c969530",
   "metadata": {},
   "outputs": [
    {
     "data": {
      "text/plain": [
       "gender                         0\n",
       "race/ethnicity                 0\n",
       "parental level of education    0\n",
       "lunch                          0\n",
       "test preparation course        0\n",
       "math score                     0\n",
       "reading score                  0\n",
       "writing score                  0\n",
       "dtype: int64"
      ]
     },
     "execution_count": 231,
     "metadata": {},
     "output_type": "execute_result"
    }
   ],
   "source": [
    "dataset.isna().sum()"
   ]
  },
  {
   "cell_type": "code",
   "execution_count": 232,
   "id": "f0bd37c4-9bdb-40f8-a6aa-b5199e7462df",
   "metadata": {},
   "outputs": [
    {
     "data": {
      "text/plain": [
       "0"
      ]
     },
     "execution_count": 232,
     "metadata": {},
     "output_type": "execute_result"
    }
   ],
   "source": [
    "dataset.duplicated().sum()"
   ]
  },
  {
   "cell_type": "markdown",
   "id": "2cd51843-df23-445f-9888-9057f364abba",
   "metadata": {},
   "source": [
    "# Data Splitting"
   ]
  },
  {
   "cell_type": "code",
   "execution_count": 233,
   "id": "fcab74f9-99d6-42a4-b83e-b243fb131adb",
   "metadata": {},
   "outputs": [],
   "source": [
    "from sklearn.model_selection import train_test_split"
   ]
  },
  {
   "cell_type": "code",
   "execution_count": 234,
   "id": "0fd43753-8bb7-4fd1-abc1-d899ba5a3079",
   "metadata": {},
   "outputs": [
    {
     "name": "stdout",
     "output_type": "stream",
     "text": [
      "<class 'pandas.core.frame.DataFrame'>\n",
      "RangeIndex: 1000 entries, 0 to 999\n",
      "Data columns (total 8 columns):\n",
      " #   Column                       Non-Null Count  Dtype \n",
      "---  ------                       --------------  ----- \n",
      " 0   gender                       1000 non-null   object\n",
      " 1   race/ethnicity               1000 non-null   object\n",
      " 2   parental level of education  1000 non-null   object\n",
      " 3   lunch                        1000 non-null   object\n",
      " 4   test preparation course      1000 non-null   object\n",
      " 5   math score                   1000 non-null   int64 \n",
      " 6   reading score                1000 non-null   int64 \n",
      " 7   writing score                1000 non-null   int64 \n",
      "dtypes: int64(3), object(5)\n",
      "memory usage: 62.6+ KB\n"
     ]
    }
   ],
   "source": [
    "dataset.info()"
   ]
  },
  {
   "cell_type": "code",
   "execution_count": 235,
   "id": "b492b85d-8179-476c-b416-a939ef931970",
   "metadata": {},
   "outputs": [],
   "source": [
    "x = dataset[['math score', 'reading score', 'writing score']]\n",
    "y = dataset[['gender']]"
   ]
  },
  {
   "cell_type": "code",
   "execution_count": 236,
   "id": "57a48d7b-2279-4b51-ad25-a71420f4936e",
   "metadata": {},
   "outputs": [],
   "source": [
    "from sklearn.model_selection import train_test_split"
   ]
  },
  {
   "cell_type": "code",
   "execution_count": 237,
   "id": "a3d267fa-93fd-47af-9c38-0b6ba84ee3f1",
   "metadata": {},
   "outputs": [],
   "source": [
    "x_train, x_test, y_train, y_test = train_test_split(x,y, test_size = 0.3, random_state=0)"
   ]
  },
  {
   "cell_type": "markdown",
   "id": "826ecc40-feb9-491b-a649-676edc3ebaa7",
   "metadata": {},
   "source": [
    "# Algoritma K-Nearest Neighbor(KNN)"
   ]
  },
  {
   "cell_type": "code",
   "execution_count": 238,
   "id": "b91cfb64-6b0f-4234-a79b-c90b4ce46daa",
   "metadata": {},
   "outputs": [],
   "source": [
    "# Mengimport Package yang dibutuhkan dari sklearn yaitu KNeighborsClassifier\n",
    "from sklearn.neighbors import KNeighborsClassifier"
   ]
  },
  {
   "cell_type": "code",
   "execution_count": 239,
   "id": "449eff76-c3a8-4a9f-9d07-d0c10ba01d83",
   "metadata": {},
   "outputs": [],
   "source": [
    "modelKNN = KNeighborsClassifier(n_neighbors = 5)"
   ]
  },
  {
   "cell_type": "code",
   "execution_count": 240,
   "id": "459a41be-761d-4a33-b889-8318275c6ce8",
   "metadata": {},
   "outputs": [
    {
     "name": "stderr",
     "output_type": "stream",
     "text": [
      "C:\\Users\\Latitude 5480\\AppData\\Local\\Programs\\Python\\Python310\\lib\\site-packages\\sklearn\\neighbors\\_classification.py:207: DataConversionWarning: A column-vector y was passed when a 1d array was expected. Please change the shape of y to (n_samples,), for example using ravel().\n",
      "  return self._fit(X, y)\n"
     ]
    },
    {
     "data": {
      "text/html": [
       "<style>#sk-container-id-10 {color: black;background-color: white;}#sk-container-id-10 pre{padding: 0;}#sk-container-id-10 div.sk-toggleable {background-color: white;}#sk-container-id-10 label.sk-toggleable__label {cursor: pointer;display: block;width: 100%;margin-bottom: 0;padding: 0.3em;box-sizing: border-box;text-align: center;}#sk-container-id-10 label.sk-toggleable__label-arrow:before {content: \"▸\";float: left;margin-right: 0.25em;color: #696969;}#sk-container-id-10 label.sk-toggleable__label-arrow:hover:before {color: black;}#sk-container-id-10 div.sk-estimator:hover label.sk-toggleable__label-arrow:before {color: black;}#sk-container-id-10 div.sk-toggleable__content {max-height: 0;max-width: 0;overflow: hidden;text-align: left;background-color: #f0f8ff;}#sk-container-id-10 div.sk-toggleable__content pre {margin: 0.2em;color: black;border-radius: 0.25em;background-color: #f0f8ff;}#sk-container-id-10 input.sk-toggleable__control:checked~div.sk-toggleable__content {max-height: 200px;max-width: 100%;overflow: auto;}#sk-container-id-10 input.sk-toggleable__control:checked~label.sk-toggleable__label-arrow:before {content: \"▾\";}#sk-container-id-10 div.sk-estimator input.sk-toggleable__control:checked~label.sk-toggleable__label {background-color: #d4ebff;}#sk-container-id-10 div.sk-label input.sk-toggleable__control:checked~label.sk-toggleable__label {background-color: #d4ebff;}#sk-container-id-10 input.sk-hidden--visually {border: 0;clip: rect(1px 1px 1px 1px);clip: rect(1px, 1px, 1px, 1px);height: 1px;margin: -1px;overflow: hidden;padding: 0;position: absolute;width: 1px;}#sk-container-id-10 div.sk-estimator {font-family: monospace;background-color: #f0f8ff;border: 1px dotted black;border-radius: 0.25em;box-sizing: border-box;margin-bottom: 0.5em;}#sk-container-id-10 div.sk-estimator:hover {background-color: #d4ebff;}#sk-container-id-10 div.sk-parallel-item::after {content: \"\";width: 100%;border-bottom: 1px solid gray;flex-grow: 1;}#sk-container-id-10 div.sk-label:hover label.sk-toggleable__label {background-color: #d4ebff;}#sk-container-id-10 div.sk-serial::before {content: \"\";position: absolute;border-left: 1px solid gray;box-sizing: border-box;top: 0;bottom: 0;left: 50%;z-index: 0;}#sk-container-id-10 div.sk-serial {display: flex;flex-direction: column;align-items: center;background-color: white;padding-right: 0.2em;padding-left: 0.2em;position: relative;}#sk-container-id-10 div.sk-item {position: relative;z-index: 1;}#sk-container-id-10 div.sk-parallel {display: flex;align-items: stretch;justify-content: center;background-color: white;position: relative;}#sk-container-id-10 div.sk-item::before, #sk-container-id-10 div.sk-parallel-item::before {content: \"\";position: absolute;border-left: 1px solid gray;box-sizing: border-box;top: 0;bottom: 0;left: 50%;z-index: -1;}#sk-container-id-10 div.sk-parallel-item {display: flex;flex-direction: column;z-index: 1;position: relative;background-color: white;}#sk-container-id-10 div.sk-parallel-item:first-child::after {align-self: flex-end;width: 50%;}#sk-container-id-10 div.sk-parallel-item:last-child::after {align-self: flex-start;width: 50%;}#sk-container-id-10 div.sk-parallel-item:only-child::after {width: 0;}#sk-container-id-10 div.sk-dashed-wrapped {border: 1px dashed gray;margin: 0 0.4em 0.5em 0.4em;box-sizing: border-box;padding-bottom: 0.4em;background-color: white;}#sk-container-id-10 div.sk-label label {font-family: monospace;font-weight: bold;display: inline-block;line-height: 1.2em;}#sk-container-id-10 div.sk-label-container {text-align: center;}#sk-container-id-10 div.sk-container {/* jupyter's `normalize.less` sets `[hidden] { display: none; }` but bootstrap.min.css set `[hidden] { display: none !important; }` so we also need the `!important` here to be able to override the default hidden behavior on the sphinx rendered scikit-learn.org. See: https://github.com/scikit-learn/scikit-learn/issues/21755 */display: inline-block !important;position: relative;}#sk-container-id-10 div.sk-text-repr-fallback {display: none;}</style><div id=\"sk-container-id-10\" class=\"sk-top-container\"><div class=\"sk-text-repr-fallback\"><pre>KNeighborsClassifier()</pre><b>In a Jupyter environment, please rerun this cell to show the HTML representation or trust the notebook. <br />On GitHub, the HTML representation is unable to render, please try loading this page with nbviewer.org.</b></div><div class=\"sk-container\" hidden><div class=\"sk-item\"><div class=\"sk-estimator sk-toggleable\"><input class=\"sk-toggleable__control sk-hidden--visually\" id=\"sk-estimator-id-10\" type=\"checkbox\" checked><label for=\"sk-estimator-id-10\" class=\"sk-toggleable__label sk-toggleable__label-arrow\">KNeighborsClassifier</label><div class=\"sk-toggleable__content\"><pre>KNeighborsClassifier()</pre></div></div></div></div></div>"
      ],
      "text/plain": [
       "KNeighborsClassifier()"
      ]
     },
     "execution_count": 240,
     "metadata": {},
     "output_type": "execute_result"
    }
   ],
   "source": [
    "modelKNN.fit(x_train, y_train)"
   ]
  },
  {
   "cell_type": "markdown",
   "id": "d994d778-b0e0-4bbd-ac4a-2bc824408904",
   "metadata": {},
   "source": [
    "### Mengecek Nilai Score untuk Training KNN"
   ]
  },
  {
   "cell_type": "code",
   "execution_count": 241,
   "id": "491fdd3d-be2d-4d4f-8865-c2b3d676625a",
   "metadata": {},
   "outputs": [
    {
     "name": "stdout",
     "output_type": "stream",
     "text": [
      "Training (Algoritma KNN) :  0.8857142857142857\n"
     ]
    }
   ],
   "source": [
    "print(\"Training (Algoritma KNN) : \", modelKNN.score(x_train, y_train))"
   ]
  },
  {
   "cell_type": "markdown",
   "id": "45398728-1de5-4fa6-b5cc-214f1391d17a",
   "metadata": {},
   "source": [
    "### Mengecek Nilai Score untuk Testing KNN"
   ]
  },
  {
   "cell_type": "code",
   "execution_count": 242,
   "id": "be0bd4d6-e892-4694-85af-06e3e95b14dc",
   "metadata": {},
   "outputs": [
    {
     "name": "stdout",
     "output_type": "stream",
     "text": [
      "Testing (Algoritma KNN) :  0.87\n"
     ]
    }
   ],
   "source": [
    "print(\"Testing (Algoritma KNN) : \", modelKNN.score(x_test, y_test))"
   ]
  },
  {
   "cell_type": "code",
   "execution_count": 243,
   "id": "25cc3e08-81d3-424d-86a8-51dcf2fcbe79",
   "metadata": {},
   "outputs": [],
   "source": [
    "predictionKNN = modelKNN.predict(x_test)"
   ]
  },
  {
   "cell_type": "code",
   "execution_count": 244,
   "id": "faa43255-3a5f-4760-9509-781606062970",
   "metadata": {},
   "outputs": [
    {
     "name": "stdout",
     "output_type": "stream",
     "text": [
      "[[145  13]\n",
      " [ 26 116]]\n"
     ]
    }
   ],
   "source": [
    "print(sklearn.metrics.confusion_matrix(y_test, predictionKNN))"
   ]
  },
  {
   "cell_type": "markdown",
   "id": "f213da03-b76e-4541-8b85-a38adf5df9bc",
   "metadata": {},
   "source": [
    "### Mengecek Akurasi Score"
   ]
  },
  {
   "cell_type": "code",
   "execution_count": 245,
   "id": "30fa09d0-5aaa-4ef7-abf5-dce6beca8c33",
   "metadata": {},
   "outputs": [
    {
     "name": "stdout",
     "output_type": "stream",
     "text": [
      "Prediksi Akurasi (Algoritma KNN) :  87.0 %\n"
     ]
    }
   ],
   "source": [
    "print(\"Prediksi Akurasi (Algoritma KNN) : \", sklearn.metrics.accuracy_score(y_test, predictionKNN)*100, '%')"
   ]
  },
  {
   "cell_type": "markdown",
   "id": "65110ab5-ef8a-468e-92ff-c4d9b4c7d05a",
   "metadata": {},
   "source": [
    "# Algoritma Naive Bayes"
   ]
  },
  {
   "cell_type": "code",
   "execution_count": 246,
   "id": "81839ecd-cb6d-419d-ab8d-ed84e866f7fc",
   "metadata": {},
   "outputs": [],
   "source": [
    "# Mengimport Package yang dibutuhkan dari sklearn yaitu GaussianNB\n",
    "from sklearn.naive_bayes import GaussianNB\n",
    "import sklearn"
   ]
  },
  {
   "cell_type": "code",
   "execution_count": 247,
   "id": "cab72454-b140-498e-b6d9-2edd4879be55",
   "metadata": {},
   "outputs": [],
   "source": [
    "modelGNB = GaussianNB()"
   ]
  },
  {
   "cell_type": "code",
   "execution_count": 248,
   "id": "7a05b82a-aba7-4f2f-8069-f53ce1673df2",
   "metadata": {},
   "outputs": [
    {
     "name": "stderr",
     "output_type": "stream",
     "text": [
      "C:\\Users\\Latitude 5480\\AppData\\Local\\Programs\\Python\\Python310\\lib\\site-packages\\sklearn\\utils\\validation.py:1111: DataConversionWarning: A column-vector y was passed when a 1d array was expected. Please change the shape of y to (n_samples, ), for example using ravel().\n",
      "  y = column_or_1d(y, warn=True)\n"
     ]
    },
    {
     "data": {
      "text/html": [
       "<style>#sk-container-id-11 {color: black;background-color: white;}#sk-container-id-11 pre{padding: 0;}#sk-container-id-11 div.sk-toggleable {background-color: white;}#sk-container-id-11 label.sk-toggleable__label {cursor: pointer;display: block;width: 100%;margin-bottom: 0;padding: 0.3em;box-sizing: border-box;text-align: center;}#sk-container-id-11 label.sk-toggleable__label-arrow:before {content: \"▸\";float: left;margin-right: 0.25em;color: #696969;}#sk-container-id-11 label.sk-toggleable__label-arrow:hover:before {color: black;}#sk-container-id-11 div.sk-estimator:hover label.sk-toggleable__label-arrow:before {color: black;}#sk-container-id-11 div.sk-toggleable__content {max-height: 0;max-width: 0;overflow: hidden;text-align: left;background-color: #f0f8ff;}#sk-container-id-11 div.sk-toggleable__content pre {margin: 0.2em;color: black;border-radius: 0.25em;background-color: #f0f8ff;}#sk-container-id-11 input.sk-toggleable__control:checked~div.sk-toggleable__content {max-height: 200px;max-width: 100%;overflow: auto;}#sk-container-id-11 input.sk-toggleable__control:checked~label.sk-toggleable__label-arrow:before {content: \"▾\";}#sk-container-id-11 div.sk-estimator input.sk-toggleable__control:checked~label.sk-toggleable__label {background-color: #d4ebff;}#sk-container-id-11 div.sk-label input.sk-toggleable__control:checked~label.sk-toggleable__label {background-color: #d4ebff;}#sk-container-id-11 input.sk-hidden--visually {border: 0;clip: rect(1px 1px 1px 1px);clip: rect(1px, 1px, 1px, 1px);height: 1px;margin: -1px;overflow: hidden;padding: 0;position: absolute;width: 1px;}#sk-container-id-11 div.sk-estimator {font-family: monospace;background-color: #f0f8ff;border: 1px dotted black;border-radius: 0.25em;box-sizing: border-box;margin-bottom: 0.5em;}#sk-container-id-11 div.sk-estimator:hover {background-color: #d4ebff;}#sk-container-id-11 div.sk-parallel-item::after {content: \"\";width: 100%;border-bottom: 1px solid gray;flex-grow: 1;}#sk-container-id-11 div.sk-label:hover label.sk-toggleable__label {background-color: #d4ebff;}#sk-container-id-11 div.sk-serial::before {content: \"\";position: absolute;border-left: 1px solid gray;box-sizing: border-box;top: 0;bottom: 0;left: 50%;z-index: 0;}#sk-container-id-11 div.sk-serial {display: flex;flex-direction: column;align-items: center;background-color: white;padding-right: 0.2em;padding-left: 0.2em;position: relative;}#sk-container-id-11 div.sk-item {position: relative;z-index: 1;}#sk-container-id-11 div.sk-parallel {display: flex;align-items: stretch;justify-content: center;background-color: white;position: relative;}#sk-container-id-11 div.sk-item::before, #sk-container-id-11 div.sk-parallel-item::before {content: \"\";position: absolute;border-left: 1px solid gray;box-sizing: border-box;top: 0;bottom: 0;left: 50%;z-index: -1;}#sk-container-id-11 div.sk-parallel-item {display: flex;flex-direction: column;z-index: 1;position: relative;background-color: white;}#sk-container-id-11 div.sk-parallel-item:first-child::after {align-self: flex-end;width: 50%;}#sk-container-id-11 div.sk-parallel-item:last-child::after {align-self: flex-start;width: 50%;}#sk-container-id-11 div.sk-parallel-item:only-child::after {width: 0;}#sk-container-id-11 div.sk-dashed-wrapped {border: 1px dashed gray;margin: 0 0.4em 0.5em 0.4em;box-sizing: border-box;padding-bottom: 0.4em;background-color: white;}#sk-container-id-11 div.sk-label label {font-family: monospace;font-weight: bold;display: inline-block;line-height: 1.2em;}#sk-container-id-11 div.sk-label-container {text-align: center;}#sk-container-id-11 div.sk-container {/* jupyter's `normalize.less` sets `[hidden] { display: none; }` but bootstrap.min.css set `[hidden] { display: none !important; }` so we also need the `!important` here to be able to override the default hidden behavior on the sphinx rendered scikit-learn.org. See: https://github.com/scikit-learn/scikit-learn/issues/21755 */display: inline-block !important;position: relative;}#sk-container-id-11 div.sk-text-repr-fallback {display: none;}</style><div id=\"sk-container-id-11\" class=\"sk-top-container\"><div class=\"sk-text-repr-fallback\"><pre>GaussianNB()</pre><b>In a Jupyter environment, please rerun this cell to show the HTML representation or trust the notebook. <br />On GitHub, the HTML representation is unable to render, please try loading this page with nbviewer.org.</b></div><div class=\"sk-container\" hidden><div class=\"sk-item\"><div class=\"sk-estimator sk-toggleable\"><input class=\"sk-toggleable__control sk-hidden--visually\" id=\"sk-estimator-id-11\" type=\"checkbox\" checked><label for=\"sk-estimator-id-11\" class=\"sk-toggleable__label sk-toggleable__label-arrow\">GaussianNB</label><div class=\"sk-toggleable__content\"><pre>GaussianNB()</pre></div></div></div></div></div>"
      ],
      "text/plain": [
       "GaussianNB()"
      ]
     },
     "execution_count": 248,
     "metadata": {},
     "output_type": "execute_result"
    }
   ],
   "source": [
    "modelGNB.fit(x_train, y_train)"
   ]
  },
  {
   "cell_type": "markdown",
   "id": "7643e7b1-a911-4bf1-b396-1e5beb59b04f",
   "metadata": {},
   "source": [
    "### Mengecek Nilai Score untuk Training Naive Bayes"
   ]
  },
  {
   "cell_type": "code",
   "execution_count": 249,
   "id": "8e7cbaac-e9b6-4f8a-ae2a-049eac79d3ab",
   "metadata": {},
   "outputs": [
    {
     "name": "stdout",
     "output_type": "stream",
     "text": [
      "Training (Algoritma Naive Bayes) :  0.6728571428571428\n"
     ]
    }
   ],
   "source": [
    "print(\"Training (Algoritma Naive Bayes) : \", modelGNB.score(x_train, y_train))"
   ]
  },
  {
   "cell_type": "markdown",
   "id": "3847ddbe-7cf4-4196-aa90-8563b6de0030",
   "metadata": {},
   "source": [
    "### Mengecek Nilai Score untuk Testing Naive Bayes"
   ]
  },
  {
   "cell_type": "code",
   "execution_count": 250,
   "id": "ca8d49bb-8e8a-4b94-ae38-25ba83077502",
   "metadata": {},
   "outputs": [
    {
     "name": "stdout",
     "output_type": "stream",
     "text": [
      "Testing (Algoritma Naive Bayes) :  0.6733333333333333\n"
     ]
    }
   ],
   "source": [
    "print(\"Testing (Algoritma Naive Bayes) : \", modelGNB.score(x_test, y_test))"
   ]
  },
  {
   "cell_type": "code",
   "execution_count": 251,
   "id": "763fce5f-fc4a-4b8b-9109-3043add47dae",
   "metadata": {},
   "outputs": [],
   "source": [
    "predictionGNB = modelGNB.predict(x_test)"
   ]
  },
  {
   "cell_type": "code",
   "execution_count": 252,
   "id": "1f04bb40-4f5b-4120-9fb8-008a3979b585",
   "metadata": {},
   "outputs": [
    {
     "name": "stdout",
     "output_type": "stream",
     "text": [
      "[[108  50]\n",
      " [ 48  94]]\n"
     ]
    }
   ],
   "source": [
    "print(sklearn.metrics.confusion_matrix(y_test, predictionGNB))"
   ]
  },
  {
   "cell_type": "markdown",
   "id": "637d7929-c228-49ca-a2c1-87a8071efac4",
   "metadata": {},
   "source": [
    "### Mengecek Akurasi Score"
   ]
  },
  {
   "cell_type": "code",
   "execution_count": 253,
   "id": "7954733c-ff38-4c25-8b12-7f314c798ffb",
   "metadata": {},
   "outputs": [
    {
     "name": "stdout",
     "output_type": "stream",
     "text": [
      "Prediksi Akurasi (Algoritma Naive Bayes) :  67.33333333333333 %\n"
     ]
    }
   ],
   "source": [
    "print(\"Prediksi Akurasi (Algoritma Naive Bayes) : \", sklearn.metrics.accuracy_score(y_test, predictionGNB)*100, '%')"
   ]
  },
  {
   "cell_type": "markdown",
   "id": "65da4d19-be95-48e0-a6c6-ffccb08ed3ef",
   "metadata": {},
   "source": [
    "# Algoritma Decision Tree"
   ]
  },
  {
   "cell_type": "code",
   "execution_count": 254,
   "id": "40de8c8b-9a04-4a05-a57b-b204af24a0d0",
   "metadata": {},
   "outputs": [],
   "source": [
    "## Mengimport Package yang dibutuhkan dari sklearn yaitu DecisionTreeClassifier\n",
    "from sklearn.tree import DecisionTreeClassifier\n",
    "from sklearn import tree"
   ]
  },
  {
   "cell_type": "code",
   "execution_count": 255,
   "id": "80f17114-83e7-4c45-950a-a12bfbb83d12",
   "metadata": {},
   "outputs": [
    {
     "name": "stdout",
     "output_type": "stream",
     "text": [
      "(300, 3)\n",
      "(700, 3)\n"
     ]
    }
   ],
   "source": [
    "print(x_test.shape)\n",
    "print(x_train.shape)"
   ]
  },
  {
   "cell_type": "code",
   "execution_count": 256,
   "id": "f6ffc424-1ada-44fd-b39d-8b5c4c9b5ce1",
   "metadata": {},
   "outputs": [],
   "source": [
    "modelDTree = DecisionTreeClassifier().fit(x_train, y_train)"
   ]
  },
  {
   "cell_type": "code",
   "execution_count": 257,
   "id": "c01c110b-061e-4659-87c0-605096c81dc6",
   "metadata": {},
   "outputs": [],
   "source": [
    "predictionDTree = modelDTree.predict(x_test)"
   ]
  },
  {
   "cell_type": "code",
   "execution_count": 258,
   "id": "00539c27-fd5a-4a8e-94af-9fc9c2f62d70",
   "metadata": {},
   "outputs": [
    {
     "name": "stdout",
     "output_type": "stream",
     "text": [
      "[[134  24]\n",
      " [ 27 115]]\n"
     ]
    }
   ],
   "source": [
    "print(sklearn.metrics.confusion_matrix(y_test, predictionDTree))"
   ]
  },
  {
   "cell_type": "markdown",
   "id": "90c6db0f-0b06-4152-96fc-058c90a93df6",
   "metadata": {},
   "source": [
    "### Mengecek Nilai Score untuk Training Decision Tree"
   ]
  },
  {
   "cell_type": "code",
   "execution_count": 259,
   "id": "1a8a0b5f-0ecf-44d3-8960-6db435c8b44a",
   "metadata": {},
   "outputs": [
    {
     "name": "stdout",
     "output_type": "stream",
     "text": [
      "Training (Algoritma Decision Tree) :  0.9928571428571429\n"
     ]
    }
   ],
   "source": [
    "print(\"Training (Algoritma Decision Tree) : \", modelDTree.score(x_train, y_train))"
   ]
  },
  {
   "cell_type": "markdown",
   "id": "ff5c86ac-71fc-433e-8818-e6d3610053dc",
   "metadata": {},
   "source": [
    "### Mengecek Nilai Score untuk Testing Decision Tree"
   ]
  },
  {
   "cell_type": "code",
   "execution_count": 260,
   "id": "91f642e3-cfc5-43b6-b1c3-8e814bb2f12d",
   "metadata": {},
   "outputs": [
    {
     "name": "stdout",
     "output_type": "stream",
     "text": [
      "Testing (Algoritma Decision Tree) :  0.83\n"
     ]
    }
   ],
   "source": [
    "print(\"Testing (Algoritma Decision Tree) : \", modelDTree.score(x_test, y_test))"
   ]
  },
  {
   "cell_type": "code",
   "execution_count": 261,
   "id": "c0c4d783-f589-4afa-8e8f-42e271a30b63",
   "metadata": {},
   "outputs": [],
   "source": [
    "predictionDTree = modelDTree.predict(x_test)"
   ]
  },
  {
   "cell_type": "code",
   "execution_count": 262,
   "id": "7ec5a72d-99de-44c0-8453-a05ab4ca444e",
   "metadata": {},
   "outputs": [
    {
     "name": "stdout",
     "output_type": "stream",
     "text": [
      "[[134  24]\n",
      " [ 27 115]]\n"
     ]
    }
   ],
   "source": [
    "print(sklearn.metrics.confusion_matrix(y_test, predictionDTree))"
   ]
  },
  {
   "cell_type": "markdown",
   "id": "baf2f341-5182-4b2f-9549-4e1f14ac0571",
   "metadata": {},
   "source": [
    "### Mengecek Akurasi Score"
   ]
  },
  {
   "cell_type": "code",
   "execution_count": 263,
   "id": "39ecf4b4-8d43-400d-97e4-cc56c6356d58",
   "metadata": {},
   "outputs": [
    {
     "name": "stdout",
     "output_type": "stream",
     "text": [
      "Prediksi Akurasi (Algoritma Decision Tree) :  83.0 %\n"
     ]
    }
   ],
   "source": [
    "print(\"Prediksi Akurasi (Algoritma Decision Tree) : \", sklearn.metrics.accuracy_score(y_test, predictionDTree)*100, '%')"
   ]
  },
  {
   "cell_type": "markdown",
   "id": "8c8845fd-f59f-400e-86ad-e08ca2f980b8",
   "metadata": {},
   "source": [
    "# Perbandingan Score Antar Algoritma"
   ]
  },
  {
   "cell_type": "code",
   "execution_count": 264,
   "id": "50c63639-577f-404a-af5e-264d8858760b",
   "metadata": {},
   "outputs": [
    {
     "name": "stdout",
     "output_type": "stream",
     "text": [
      "----------------------------------------------------------------\n",
      "                         ALGORITMA KNN\n",
      "----------------------------------------------------------------\n",
      "Training (Algoritma KNN)                   :  0.8857142857142857\n",
      "Testing (Algoritma KNN)                    :  0.87\n",
      "Prediksi Akurasi (Algoritma KNN)           :  87.0 %\n",
      "\n",
      "\n",
      "----------------------------------------------------------------\n",
      "                      ALGORITMA NAIVE BAYES\n",
      "----------------------------------------------------------------\n",
      "Training (Algoritma Naive Bayes)           :  0.6728571428571428\n",
      "Testing (Algoritma Naive Bayes)            :  0.6733333333333333\n",
      "Prediksi Akurasi (Algoritma Naive Bayes)   :  67.33333333333333 %\n",
      "\n",
      "\n",
      "----------------------------------------------------------------\n",
      "                     ALGORITMA DECISION TREE\n",
      "----------------------------------------------------------------\n",
      "Training (Algoritma Decision Tree)         :  0.9928571428571429\n",
      "Testing (Algoritma Decision Tree)          :  0.83\n",
      "Prediksi Akurasi (Algoritma Decision Tree) :  83.0 %\n"
     ]
    }
   ],
   "source": [
    "#Score Algoritma KNN\n",
    "print(\"----------------------------------------------------------------\")\n",
    "print(\"                         ALGORITMA KNN\")\n",
    "print(\"----------------------------------------------------------------\")\n",
    "print(\"Training (Algoritma KNN)                   : \", modelKNN.score(x_train, y_train))\n",
    "print(\"Testing (Algoritma KNN)                    : \", modelKNN.score(x_test, y_test))\n",
    "print(\"Prediksi Akurasi (Algoritma KNN)           : \", sklearn.metrics.accuracy_score(y_test, predictionKNN)*100, '%')\n",
    "\n",
    "#Score Algoritma Naive Bayes\n",
    "print(\"\\n\\n----------------------------------------------------------------\")\n",
    "print(\"                      ALGORITMA NAIVE BAYES\")\n",
    "print(\"----------------------------------------------------------------\")\n",
    "print(\"Training (Algoritma Naive Bayes)           : \", modelGNB.score(x_train, y_train))\n",
    "print(\"Testing (Algoritma Naive Bayes)            : \", modelGNB.score(x_test, y_test))\n",
    "print(\"Prediksi Akurasi (Algoritma Naive Bayes)   : \", sklearn.metrics.accuracy_score(y_test, predictionGNB)*100, '%')\n",
    "\n",
    "#Score Algortima Decision Tree\n",
    "print(\"\\n\\n----------------------------------------------------------------\")\n",
    "print(\"                     ALGORITMA DECISION TREE\")\n",
    "print(\"----------------------------------------------------------------\")\n",
    "print(\"Training (Algoritma Decision Tree)         : \", modelDTree.score(x_train, y_train))\n",
    "print(\"Testing (Algoritma Decision Tree)          : \", modelDTree.score(x_test, y_test))\n",
    "print(\"Prediksi Akurasi (Algoritma Decision Tree) : \", sklearn.metrics.accuracy_score(y_test, predictionDTree)*100, '%')"
   ]
  },
  {
   "cell_type": "markdown",
   "id": "47a5db35-78ff-486d-bfe7-3a14da16c022",
   "metadata": {},
   "source": [
    "# Kesimpulan\n",
    "#### Melihat perbandingan score antara algoritma KNN, Naive Bayes, dan Decision Tree maka dapat disimpulkan bahwa algoritma yang memiliki score terbaik adalah Algoritma KNN"
   ]
  }
 ],
 "metadata": {
  "kernelspec": {
   "display_name": "Python 3 (ipykernel)",
   "language": "python",
   "name": "python3"
  },
  "language_info": {
   "codemirror_mode": {
    "name": "ipython",
    "version": 3
   },
   "file_extension": ".py",
   "mimetype": "text/x-python",
   "name": "python",
   "nbconvert_exporter": "python",
   "pygments_lexer": "ipython3",
   "version": "3.10.7"
  }
 },
 "nbformat": 4,
 "nbformat_minor": 5
}
